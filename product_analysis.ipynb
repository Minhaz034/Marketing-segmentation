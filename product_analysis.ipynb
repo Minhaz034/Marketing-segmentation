{
 "cells": [
  {
   "cell_type": "code",
   "execution_count": 1,
   "source": [
    "import pandas as pd\r\n",
    "import matplotlib.pyplot as plt\r\n",
    "import numpy as np\r\n",
    "\r\n",
    "%matplotlib inline"
   ],
   "outputs": [],
   "metadata": {}
  },
  {
   "cell_type": "code",
   "execution_count": 2,
   "source": [
    "df = pd.read_excel(io='Online Retail.xlsx')\r\n",
    "df.head()"
   ],
   "outputs": [
    {
     "output_type": "execute_result",
     "data": {
      "text/html": [
       "<div>\n",
       "<style scoped>\n",
       "    .dataframe tbody tr th:only-of-type {\n",
       "        vertical-align: middle;\n",
       "    }\n",
       "\n",
       "    .dataframe tbody tr th {\n",
       "        vertical-align: top;\n",
       "    }\n",
       "\n",
       "    .dataframe thead th {\n",
       "        text-align: right;\n",
       "    }\n",
       "</style>\n",
       "<table border=\"1\" class=\"dataframe\">\n",
       "  <thead>\n",
       "    <tr style=\"text-align: right;\">\n",
       "      <th></th>\n",
       "      <th>InvoiceNo</th>\n",
       "      <th>StockCode</th>\n",
       "      <th>Description</th>\n",
       "      <th>Quantity</th>\n",
       "      <th>InvoiceDate</th>\n",
       "      <th>UnitPrice</th>\n",
       "      <th>CustomerID</th>\n",
       "      <th>Country</th>\n",
       "    </tr>\n",
       "  </thead>\n",
       "  <tbody>\n",
       "    <tr>\n",
       "      <th>0</th>\n",
       "      <td>536365</td>\n",
       "      <td>85123A</td>\n",
       "      <td>WHITE HANGING HEART T-LIGHT HOLDER</td>\n",
       "      <td>6</td>\n",
       "      <td>2010-12-01 08:26:00</td>\n",
       "      <td>2.55</td>\n",
       "      <td>17850.0</td>\n",
       "      <td>United Kingdom</td>\n",
       "    </tr>\n",
       "    <tr>\n",
       "      <th>1</th>\n",
       "      <td>536365</td>\n",
       "      <td>71053</td>\n",
       "      <td>WHITE METAL LANTERN</td>\n",
       "      <td>6</td>\n",
       "      <td>2010-12-01 08:26:00</td>\n",
       "      <td>3.39</td>\n",
       "      <td>17850.0</td>\n",
       "      <td>United Kingdom</td>\n",
       "    </tr>\n",
       "    <tr>\n",
       "      <th>2</th>\n",
       "      <td>536365</td>\n",
       "      <td>84406B</td>\n",
       "      <td>CREAM CUPID HEARTS COAT HANGER</td>\n",
       "      <td>8</td>\n",
       "      <td>2010-12-01 08:26:00</td>\n",
       "      <td>2.75</td>\n",
       "      <td>17850.0</td>\n",
       "      <td>United Kingdom</td>\n",
       "    </tr>\n",
       "    <tr>\n",
       "      <th>3</th>\n",
       "      <td>536365</td>\n",
       "      <td>84029G</td>\n",
       "      <td>KNITTED UNION FLAG HOT WATER BOTTLE</td>\n",
       "      <td>6</td>\n",
       "      <td>2010-12-01 08:26:00</td>\n",
       "      <td>3.39</td>\n",
       "      <td>17850.0</td>\n",
       "      <td>United Kingdom</td>\n",
       "    </tr>\n",
       "    <tr>\n",
       "      <th>4</th>\n",
       "      <td>536365</td>\n",
       "      <td>84029E</td>\n",
       "      <td>RED WOOLLY HOTTIE WHITE HEART.</td>\n",
       "      <td>6</td>\n",
       "      <td>2010-12-01 08:26:00</td>\n",
       "      <td>3.39</td>\n",
       "      <td>17850.0</td>\n",
       "      <td>United Kingdom</td>\n",
       "    </tr>\n",
       "  </tbody>\n",
       "</table>\n",
       "</div>"
      ],
      "text/plain": [
       "  InvoiceNo StockCode                          Description  Quantity  \\\n",
       "0    536365    85123A   WHITE HANGING HEART T-LIGHT HOLDER         6   \n",
       "1    536365     71053                  WHITE METAL LANTERN         6   \n",
       "2    536365    84406B       CREAM CUPID HEARTS COAT HANGER         8   \n",
       "3    536365    84029G  KNITTED UNION FLAG HOT WATER BOTTLE         6   \n",
       "4    536365    84029E       RED WOOLLY HOTTIE WHITE HEART.         6   \n",
       "\n",
       "          InvoiceDate  UnitPrice  CustomerID         Country  \n",
       "0 2010-12-01 08:26:00       2.55     17850.0  United Kingdom  \n",
       "1 2010-12-01 08:26:00       3.39     17850.0  United Kingdom  \n",
       "2 2010-12-01 08:26:00       2.75     17850.0  United Kingdom  \n",
       "3 2010-12-01 08:26:00       3.39     17850.0  United Kingdom  \n",
       "4 2010-12-01 08:26:00       3.39     17850.0  United Kingdom  "
      ]
     },
     "metadata": {},
     "execution_count": 2
    }
   ],
   "metadata": {}
  },
  {
   "cell_type": "code",
   "execution_count": 3,
   "source": [
    "df.columns.values"
   ],
   "outputs": [
    {
     "output_type": "execute_result",
     "data": {
      "text/plain": [
       "array(['InvoiceNo', 'StockCode', 'Description', 'Quantity', 'InvoiceDate',\n",
       "       'UnitPrice', 'CustomerID', 'Country'], dtype=object)"
      ]
     },
     "metadata": {},
     "execution_count": 3
    }
   ],
   "metadata": {}
  },
  {
   "cell_type": "code",
   "execution_count": 10,
   "source": [
    "df['Country'].value_counts()"
   ],
   "outputs": [
    {
     "output_type": "execute_result",
     "data": {
      "text/plain": [
       "United Kingdom          495478\n",
       "Germany                   9495\n",
       "France                    8557\n",
       "EIRE                      8196\n",
       "Spain                     2533\n",
       "Netherlands               2371\n",
       "Belgium                   2069\n",
       "Switzerland               2002\n",
       "Portugal                  1519\n",
       "Australia                 1259\n",
       "Norway                    1086\n",
       "Italy                      803\n",
       "Channel Islands            758\n",
       "Finland                    695\n",
       "Cyprus                     622\n",
       "Sweden                     462\n",
       "Unspecified                446\n",
       "Austria                    401\n",
       "Denmark                    389\n",
       "Japan                      358\n",
       "Poland                     341\n",
       "Israel                     297\n",
       "USA                        291\n",
       "Hong Kong                  288\n",
       "Singapore                  229\n",
       "Iceland                    182\n",
       "Canada                     151\n",
       "Greece                     146\n",
       "Malta                      127\n",
       "United Arab Emirates        68\n",
       "European Community          61\n",
       "RSA                         58\n",
       "Lebanon                     45\n",
       "Lithuania                   35\n",
       "Brazil                      32\n",
       "Czech Republic              30\n",
       "Bahrain                     19\n",
       "Saudi Arabia                10\n",
       "Name: Country, dtype: int64"
      ]
     },
     "metadata": {},
     "execution_count": 10
    }
   ],
   "metadata": {}
  },
  {
   "cell_type": "code",
   "execution_count": 10,
   "source": [
    "df = df[df['Quantity']>0]\r\n",
    "ax = df[['Quantity','UnitPrice']].plot.box(\r\n",
    "    showfliers = False\r\n",
    "    \r\n",
    ")\r\n"
   ],
   "outputs": [
    {
     "output_type": "display_data",
     "data": {
      "image/png": "[encoded data removed]",
      "text/plain": [
       "<Figure size 432x288 with 1 Axes>"
      ]
     },
     "metadata": {
      "needs_background": "light"
     }
    }
   ],
   "metadata": {}
  },
  {
   "cell_type": "code",
   "execution_count": 18,
   "source": [
    "monthly_orders_df = df.set_index('InvoiceDate')['InvoiceNo'].resample('M').nunique()"
   ],
   "outputs": [],
   "metadata": {}
  },
  {
   "cell_type": "code",
   "execution_count": 22,
   "source": [
    "monthly_orders_df[monthly_orders_df.index>'2010-12-31'].plot.line()"
   ],
   "outputs": [
    {
     "output_type": "execute_result",
     "data": {
      "text/plain": [
       "<AxesSubplot:xlabel='InvoiceDate'>"
      ]
     },
     "metadata": {},
     "execution_count": 22
    },
    {
     "output_type": "display_data",
     "data": {
      "image/png": "[encoded data removed]",
      "text/plain": [
       "<Figure size 432x288 with 1 Axes>"
      ]
     },
     "metadata": {
      "needs_background": "light"
     }
    }
   ],
   "metadata": {}
  },
  {
   "cell_type": "code",
   "execution_count": 23,
   "source": [
    "df['Sales'] = df['Quantity'] * df['UnitPrice']\r\n",
    "monthly_revenue_df = df.set_index('InvoiceDate')['Sales'].resample('M').sum()\r\n",
    "monthly_revenue_df"
   ],
   "outputs": [
    {
     "output_type": "execute_result",
     "data": {
      "text/plain": [
       "InvoiceDate\n",
       "2010-12-31     823746.140\n",
       "2011-01-31     691364.560\n",
       "2011-02-28     523631.890\n",
       "2011-03-31     717639.360\n",
       "2011-04-30     537808.621\n",
       "2011-05-31     770536.020\n",
       "2011-06-30     761739.900\n",
       "2011-07-31     719221.191\n",
       "2011-08-31     737014.260\n",
       "2011-09-30    1058590.172\n",
       "2011-10-31    1154979.300\n",
       "2011-11-30    1509496.330\n",
       "2011-12-31     638792.680\n",
       "Freq: M, Name: Sales, dtype: float64"
      ]
     },
     "metadata": {},
     "execution_count": 23
    }
   ],
   "metadata": {}
  },
  {
   "cell_type": "code",
   "execution_count": 24,
   "source": [
    "ax = pd.DataFrame(monthly_revenue_df.values).plot(\r\n",
    "grid=True,\r\n",
    "figsize=(10,7),\r\n",
    "legend=False\r\n",
    ")\r\n",
    "ax.set_xlabel('date')\r\n",
    "ax.set_ylabel('sales')\r\n",
    "ax.set_title('Total Revenue Over Time')\r\n",
    "ax.set_ylim([0, max(monthly_revenue_df.values)+100000])\r\n",
    "plt.xticks(\r\n",
    "range(len(monthly_revenue_df.index)),\r\n",
    "[x.strftime('%m.%Y') for x in monthly_revenue_df.index],\r\n",
    "rotation=45\r\n",
    ")\r\n",
    "plt.show()"
   ],
   "outputs": [
    {
     "output_type": "display_data",
     "data": {
      "image/png": "[encoded data removed]",
      "text/plain": [
       "<Figure size 720x504 with 1 Axes>"
      ]
     },
     "metadata": {
      "needs_background": "light"
     }
    }
   ],
   "metadata": {}
  },
  {
   "cell_type": "code",
   "execution_count": 11,
   "source": [
    "df['Sales'] = df['Quantity'] * df['UnitPrice']\r\n",
    "monthly_revenue_df = df.set_index('InvoiceDate')['Sales'].resample('M').sum()"
   ],
   "outputs": [],
   "metadata": {}
  },
  {
   "cell_type": "code",
   "execution_count": 13,
   "source": [
    "monthly_revenue_df \r\n"
   ],
   "outputs": [
    {
     "output_type": "execute_result",
     "data": {
      "text/plain": [
       "InvoiceDate\n",
       "2010-12-31     748957.020\n",
       "2011-01-31     560000.260\n",
       "2011-02-28     498062.650\n",
       "2011-03-31     683267.080\n",
       "2011-04-30     493207.121\n",
       "2011-05-31     723333.510\n",
       "2011-06-30     691123.120\n",
       "2011-07-31     681300.111\n",
       "2011-08-31     682680.510\n",
       "2011-09-30    1019687.622\n",
       "2011-10-31    1070704.670\n",
       "2011-11-30    1461756.250\n",
       "2011-12-31     433668.010\n",
       "Freq: M, Name: Sales, dtype: float64"
      ]
     },
     "metadata": {},
     "execution_count": 13
    }
   ],
   "metadata": {}
  },
  {
   "cell_type": "code",
   "execution_count": 14,
   "source": [
    "monthly_revenue_df.plot.line(\r\n",
    "    \r\n",
    ")"
   ],
   "outputs": [
    {
     "output_type": "execute_result",
     "data": {
      "text/plain": [
       "<AxesSubplot:xlabel='InvoiceDate'>"
      ]
     },
     "metadata": {},
     "execution_count": 14
    },
    {
     "output_type": "display_data",
     "data": {
      "image/png": "[encoded data removed]",
      "text/plain": [
       "<Figure size 432x288 with 1 Axes>"
      ]
     },
     "metadata": {
      "needs_background": "light"
     }
    }
   ],
   "metadata": {}
  },
  {
   "cell_type": "code",
   "execution_count": 18,
   "source": [
    "invoice_customer_df = df.groupby(\r\n",
    "by=['InvoiceNo', 'InvoiceDate']\r\n",
    ").agg({\r\n",
    "'Sales': sum,\r\n",
    "'CustomerID': max,\r\n",
    "'Country': max,\r\n",
    "}).reset_index()"
   ],
   "outputs": [],
   "metadata": {}
  },
  {
   "cell_type": "code",
   "execution_count": 19,
   "source": [
    "invoice_customer_df"
   ],
   "outputs": [
    {
     "output_type": "execute_result",
     "data": {
      "text/html": [
       "<div>\n",
       "<style scoped>\n",
       "    .dataframe tbody tr th:only-of-type {\n",
       "        vertical-align: middle;\n",
       "    }\n",
       "\n",
       "    .dataframe tbody tr th {\n",
       "        vertical-align: top;\n",
       "    }\n",
       "\n",
       "    .dataframe thead th {\n",
       "        text-align: right;\n",
       "    }\n",
       "</style>\n",
       "<table border=\"1\" class=\"dataframe\">\n",
       "  <thead>\n",
       "    <tr style=\"text-align: right;\">\n",
       "      <th></th>\n",
       "      <th>InvoiceNo</th>\n",
       "      <th>InvoiceDate</th>\n",
       "      <th>Sales</th>\n",
       "      <th>CustomerID</th>\n",
       "      <th>Country</th>\n",
       "    </tr>\n",
       "  </thead>\n",
       "  <tbody>\n",
       "    <tr>\n",
       "      <th>0</th>\n",
       "      <td>536365</td>\n",
       "      <td>2010-12-01 08:26:00</td>\n",
       "      <td>139.12</td>\n",
       "      <td>17850.0</td>\n",
       "      <td>United Kingdom</td>\n",
       "    </tr>\n",
       "    <tr>\n",
       "      <th>1</th>\n",
       "      <td>536366</td>\n",
       "      <td>2010-12-01 08:28:00</td>\n",
       "      <td>22.20</td>\n",
       "      <td>17850.0</td>\n",
       "      <td>United Kingdom</td>\n",
       "    </tr>\n",
       "    <tr>\n",
       "      <th>2</th>\n",
       "      <td>536367</td>\n",
       "      <td>2010-12-01 08:34:00</td>\n",
       "      <td>278.73</td>\n",
       "      <td>13047.0</td>\n",
       "      <td>United Kingdom</td>\n",
       "    </tr>\n",
       "    <tr>\n",
       "      <th>3</th>\n",
       "      <td>536368</td>\n",
       "      <td>2010-12-01 08:34:00</td>\n",
       "      <td>70.05</td>\n",
       "      <td>13047.0</td>\n",
       "      <td>United Kingdom</td>\n",
       "    </tr>\n",
       "    <tr>\n",
       "      <th>4</th>\n",
       "      <td>536369</td>\n",
       "      <td>2010-12-01 08:35:00</td>\n",
       "      <td>17.85</td>\n",
       "      <td>13047.0</td>\n",
       "      <td>United Kingdom</td>\n",
       "    </tr>\n",
       "    <tr>\n",
       "      <th>...</th>\n",
       "      <td>...</td>\n",
       "      <td>...</td>\n",
       "      <td>...</td>\n",
       "      <td>...</td>\n",
       "      <td>...</td>\n",
       "    </tr>\n",
       "    <tr>\n",
       "      <th>25938</th>\n",
       "      <td>C581484</td>\n",
       "      <td>2011-12-09 09:27:00</td>\n",
       "      <td>-168469.60</td>\n",
       "      <td>16446.0</td>\n",
       "      <td>United Kingdom</td>\n",
       "    </tr>\n",
       "    <tr>\n",
       "      <th>25939</th>\n",
       "      <td>C581490</td>\n",
       "      <td>2011-12-09 09:57:00</td>\n",
       "      <td>-32.53</td>\n",
       "      <td>14397.0</td>\n",
       "      <td>United Kingdom</td>\n",
       "    </tr>\n",
       "    <tr>\n",
       "      <th>25940</th>\n",
       "      <td>C581499</td>\n",
       "      <td>2011-12-09 10:28:00</td>\n",
       "      <td>-224.69</td>\n",
       "      <td>15498.0</td>\n",
       "      <td>United Kingdom</td>\n",
       "    </tr>\n",
       "    <tr>\n",
       "      <th>25941</th>\n",
       "      <td>C581568</td>\n",
       "      <td>2011-12-09 11:57:00</td>\n",
       "      <td>-54.75</td>\n",
       "      <td>15311.0</td>\n",
       "      <td>United Kingdom</td>\n",
       "    </tr>\n",
       "    <tr>\n",
       "      <th>25942</th>\n",
       "      <td>C581569</td>\n",
       "      <td>2011-12-09 11:58:00</td>\n",
       "      <td>-7.50</td>\n",
       "      <td>17315.0</td>\n",
       "      <td>United Kingdom</td>\n",
       "    </tr>\n",
       "  </tbody>\n",
       "</table>\n",
       "<p>25943 rows × 5 columns</p>\n",
       "</div>"
      ],
      "text/plain": [
       "      InvoiceNo         InvoiceDate      Sales  CustomerID         Country\n",
       "0        536365 2010-12-01 08:26:00     139.12     17850.0  United Kingdom\n",
       "1        536366 2010-12-01 08:28:00      22.20     17850.0  United Kingdom\n",
       "2        536367 2010-12-01 08:34:00     278.73     13047.0  United Kingdom\n",
       "3        536368 2010-12-01 08:34:00      70.05     13047.0  United Kingdom\n",
       "4        536369 2010-12-01 08:35:00      17.85     13047.0  United Kingdom\n",
       "...         ...                 ...        ...         ...             ...\n",
       "25938   C581484 2011-12-09 09:27:00 -168469.60     16446.0  United Kingdom\n",
       "25939   C581490 2011-12-09 09:57:00     -32.53     14397.0  United Kingdom\n",
       "25940   C581499 2011-12-09 10:28:00    -224.69     15498.0  United Kingdom\n",
       "25941   C581568 2011-12-09 11:57:00     -54.75     15311.0  United Kingdom\n",
       "25942   C581569 2011-12-09 11:58:00      -7.50     17315.0  United Kingdom\n",
       "\n",
       "[25943 rows x 5 columns]"
      ]
     },
     "metadata": {},
     "execution_count": 19
    }
   ],
   "metadata": {}
  },
  {
   "cell_type": "code",
   "execution_count": 20,
   "source": [
    "invoice_customer_df.set_index('InvoiceDate')"
   ],
   "outputs": [
    {
     "output_type": "execute_result",
     "data": {
      "text/html": [
       "<div>\n",
       "<style scoped>\n",
       "    .dataframe tbody tr th:only-of-type {\n",
       "        vertical-align: middle;\n",
       "    }\n",
       "\n",
       "    .dataframe tbody tr th {\n",
       "        vertical-align: top;\n",
       "    }\n",
       "\n",
       "    .dataframe thead th {\n",
       "        text-align: right;\n",
       "    }\n",
       "</style>\n",
       "<table border=\"1\" class=\"dataframe\">\n",
       "  <thead>\n",
       "    <tr style=\"text-align: right;\">\n",
       "      <th></th>\n",
       "      <th>InvoiceNo</th>\n",
       "      <th>Sales</th>\n",
       "      <th>CustomerID</th>\n",
       "      <th>Country</th>\n",
       "    </tr>\n",
       "    <tr>\n",
       "      <th>InvoiceDate</th>\n",
       "      <th></th>\n",
       "      <th></th>\n",
       "      <th></th>\n",
       "      <th></th>\n",
       "    </tr>\n",
       "  </thead>\n",
       "  <tbody>\n",
       "    <tr>\n",
       "      <th>2010-12-01 08:26:00</th>\n",
       "      <td>536365</td>\n",
       "      <td>139.12</td>\n",
       "      <td>17850.0</td>\n",
       "      <td>United Kingdom</td>\n",
       "    </tr>\n",
       "    <tr>\n",
       "      <th>2010-12-01 08:28:00</th>\n",
       "      <td>536366</td>\n",
       "      <td>22.20</td>\n",
       "      <td>17850.0</td>\n",
       "      <td>United Kingdom</td>\n",
       "    </tr>\n",
       "    <tr>\n",
       "      <th>2010-12-01 08:34:00</th>\n",
       "      <td>536367</td>\n",
       "      <td>278.73</td>\n",
       "      <td>13047.0</td>\n",
       "      <td>United Kingdom</td>\n",
       "    </tr>\n",
       "    <tr>\n",
       "      <th>2010-12-01 08:34:00</th>\n",
       "      <td>536368</td>\n",
       "      <td>70.05</td>\n",
       "      <td>13047.0</td>\n",
       "      <td>United Kingdom</td>\n",
       "    </tr>\n",
       "    <tr>\n",
       "      <th>2010-12-01 08:35:00</th>\n",
       "      <td>536369</td>\n",
       "      <td>17.85</td>\n",
       "      <td>13047.0</td>\n",
       "      <td>United Kingdom</td>\n",
       "    </tr>\n",
       "    <tr>\n",
       "      <th>...</th>\n",
       "      <td>...</td>\n",
       "      <td>...</td>\n",
       "      <td>...</td>\n",
       "      <td>...</td>\n",
       "    </tr>\n",
       "    <tr>\n",
       "      <th>2011-12-09 09:27:00</th>\n",
       "      <td>C581484</td>\n",
       "      <td>-168469.60</td>\n",
       "      <td>16446.0</td>\n",
       "      <td>United Kingdom</td>\n",
       "    </tr>\n",
       "    <tr>\n",
       "      <th>2011-12-09 09:57:00</th>\n",
       "      <td>C581490</td>\n",
       "      <td>-32.53</td>\n",
       "      <td>14397.0</td>\n",
       "      <td>United Kingdom</td>\n",
       "    </tr>\n",
       "    <tr>\n",
       "      <th>2011-12-09 10:28:00</th>\n",
       "      <td>C581499</td>\n",
       "      <td>-224.69</td>\n",
       "      <td>15498.0</td>\n",
       "      <td>United Kingdom</td>\n",
       "    </tr>\n",
       "    <tr>\n",
       "      <th>2011-12-09 11:57:00</th>\n",
       "      <td>C581568</td>\n",
       "      <td>-54.75</td>\n",
       "      <td>15311.0</td>\n",
       "      <td>United Kingdom</td>\n",
       "    </tr>\n",
       "    <tr>\n",
       "      <th>2011-12-09 11:58:00</th>\n",
       "      <td>C581569</td>\n",
       "      <td>-7.50</td>\n",
       "      <td>17315.0</td>\n",
       "      <td>United Kingdom</td>\n",
       "    </tr>\n",
       "  </tbody>\n",
       "</table>\n",
       "<p>25943 rows × 4 columns</p>\n",
       "</div>"
      ],
      "text/plain": [
       "                    InvoiceNo      Sales  CustomerID         Country\n",
       "InvoiceDate                                                         \n",
       "2010-12-01 08:26:00    536365     139.12     17850.0  United Kingdom\n",
       "2010-12-01 08:28:00    536366      22.20     17850.0  United Kingdom\n",
       "2010-12-01 08:34:00    536367     278.73     13047.0  United Kingdom\n",
       "2010-12-01 08:34:00    536368      70.05     13047.0  United Kingdom\n",
       "2010-12-01 08:35:00    536369      17.85     13047.0  United Kingdom\n",
       "...                       ...        ...         ...             ...\n",
       "2011-12-09 09:27:00   C581484 -168469.60     16446.0  United Kingdom\n",
       "2011-12-09 09:57:00   C581490     -32.53     14397.0  United Kingdom\n",
       "2011-12-09 10:28:00   C581499    -224.69     15498.0  United Kingdom\n",
       "2011-12-09 11:57:00   C581568     -54.75     15311.0  United Kingdom\n",
       "2011-12-09 11:58:00   C581569      -7.50     17315.0  United Kingdom\n",
       "\n",
       "[25943 rows x 4 columns]"
      ]
     },
     "metadata": {},
     "execution_count": 20
    }
   ],
   "metadata": {}
  },
  {
   "cell_type": "code",
   "execution_count": 25,
   "source": [
    "monthly_repeat_customers_df = invoice_customer_df.set_index('InvoiceDate').groupby([\r\n",
    "pd.Grouper(freq='M'), 'CustomerID'\r\n",
    "]).filter(lambda x: len(x) > 1).resample('M').nunique()['CustomerID']"
   ],
   "outputs": [],
   "metadata": {}
  },
  {
   "cell_type": "code",
   "execution_count": 46,
   "source": [
    "df.groupby([pd.Grouper(key='InvoiceDate',freq='M')])['CustomerID'].nunique()"
   ],
   "outputs": [
    {
     "output_type": "execute_result",
     "data": {
      "text/plain": [
       "InvoiceDate\n",
       "2010-12-31     948\n",
       "2011-01-31     783\n",
       "2011-02-28     798\n",
       "2011-03-31    1020\n",
       "2011-04-30     899\n",
       "2011-05-31    1079\n",
       "2011-06-30    1051\n",
       "2011-07-31     993\n",
       "2011-08-31     980\n",
       "2011-09-30    1302\n",
       "2011-10-31    1425\n",
       "2011-11-30    1711\n",
       "2011-12-31     686\n",
       "Freq: M, Name: CustomerID, dtype: int64"
      ]
     },
     "metadata": {},
     "execution_count": 46
    }
   ],
   "metadata": {}
  },
  {
   "cell_type": "code",
   "execution_count": 26,
   "source": [
    "monthly_repeat_customers_df"
   ],
   "outputs": [
    {
     "output_type": "execute_result",
     "data": {
      "text/plain": [
       "InvoiceDate\n",
       "2010-12-31    357\n",
       "2011-01-31    256\n",
       "2011-02-28    246\n",
       "2011-03-31    323\n",
       "2011-04-30    271\n",
       "2011-05-31    398\n",
       "2011-06-30    333\n",
       "2011-07-31    327\n",
       "2011-08-31    299\n",
       "2011-09-30    400\n",
       "2011-10-31    446\n",
       "2011-11-30    674\n",
       "2011-12-31    150\n",
       "Freq: M, Name: CustomerID, dtype: int64"
      ]
     },
     "metadata": {},
     "execution_count": 26
    }
   ],
   "metadata": {}
  },
  {
   "cell_type": "code",
   "execution_count": 27,
   "source": [
    "monthly_unique_customers_df = df.set_index('InvoiceDate')['CustomerID'].resample('M').nunique()"
   ],
   "outputs": [],
   "metadata": {}
  },
  {
   "cell_type": "code",
   "execution_count": 28,
   "source": [
    "monthly_unique_customers_df"
   ],
   "outputs": [
    {
     "output_type": "execute_result",
     "data": {
      "text/plain": [
       "InvoiceDate\n",
       "2010-12-31     948\n",
       "2011-01-31     783\n",
       "2011-02-28     798\n",
       "2011-03-31    1020\n",
       "2011-04-30     899\n",
       "2011-05-31    1079\n",
       "2011-06-30    1051\n",
       "2011-07-31     993\n",
       "2011-08-31     980\n",
       "2011-09-30    1302\n",
       "2011-10-31    1425\n",
       "2011-11-30    1711\n",
       "2011-12-31     686\n",
       "Freq: M, Name: CustomerID, dtype: int64"
      ]
     },
     "metadata": {},
     "execution_count": 28
    }
   ],
   "metadata": {}
  },
  {
   "cell_type": "code",
   "execution_count": 29,
   "source": [
    "monthly_repeat_percentage = monthly_repeat_customers_df/monthly_unique_customers_df*100.0"
   ],
   "outputs": [],
   "metadata": {}
  },
  {
   "cell_type": "code",
   "execution_count": 30,
   "source": [
    "monthly_repeat_percentage"
   ],
   "outputs": [
    {
     "output_type": "execute_result",
     "data": {
      "text/plain": [
       "InvoiceDate\n",
       "2010-12-31    37.658228\n",
       "2011-01-31    32.694764\n",
       "2011-02-28    30.827068\n",
       "2011-03-31    31.666667\n",
       "2011-04-30    30.144605\n",
       "2011-05-31    36.886006\n",
       "2011-06-30    31.684110\n",
       "2011-07-31    32.930514\n",
       "2011-08-31    30.510204\n",
       "2011-09-30    30.721966\n",
       "2011-10-31    31.298246\n",
       "2011-11-30    39.392168\n",
       "2011-12-31    21.865889\n",
       "Freq: M, Name: CustomerID, dtype: float64"
      ]
     },
     "metadata": {},
     "execution_count": 30
    }
   ],
   "metadata": {}
  },
  {
   "cell_type": "code",
   "execution_count": 31,
   "source": [
    "ax = pd.DataFrame(monthly_repeat_customers_df.values).plot(\r\n",
    "figsize=(10,7)\r\n",
    ")\r\n",
    "pd.DataFrame(monthly_unique_customers_df.values).plot(\r\n",
    "ax=ax,\r\n",
    "grid=True\r\n",
    ")\r\n",
    "ax2 = pd.DataFrame(monthly_repeat_percentage.values).plot.bar(\r\n",
    "ax=ax,\r\n",
    "grid=True,\r\n",
    "secondary_y=True,\r\n",
    "color='green',\r\n",
    "alpha=0.2\r\n",
    ")\r\n",
    "ax.set_xlabel('date')\r\n",
    "ax.set_ylabel('number of customers')\r\n",
    "ax.set_title('Number of All vs. Repeat Customers Over Time')\r\n",
    "ax2.set_ylabel('percentage (%)')\r\n",
    "ax.legend(['Repeat Customers', 'All Customers'])\r\n",
    "ax2.legend(['Percentage of Repeat'], loc='upper right')\r\n",
    "ax.set_ylim([0, monthly_unique_customers_df.values.max()+100])\r\n",
    "ax2.set_ylim([0, 100])\r\n",
    "plt.xticks(\r\n",
    "range(len(monthly_repeat_customers_df.index)),\r\n",
    "[x.strftime('%m.%Y') for x in monthly_repeat_customers_df.index],\r\n",
    "rotation=45\r\n",
    ")\r\n",
    "plt.show()"
   ],
   "outputs": [
    {
     "output_type": "display_data",
     "data": {
      "image/png": "[encoded data removed]",
      "text/plain": [
       "<Figure size 720x504 with 2 Axes>"
      ]
     },
     "metadata": {
      "needs_background": "light"
     }
    }
   ],
   "metadata": {}
  },
  {
   "cell_type": "code",
   "execution_count": 32,
   "source": [
    "monthly_rev_repeat_customers_df = invoice_customer_df.set_index('InvoiceDate').groupby([\r\n",
    "pd.Grouper(freq='M'), 'CustomerID'\r\n",
    "]).filter(lambda x: len(x) > 1).resample('M').sum()['Sales']\r\n",
    "monthly_rev_perc_repeat_customers_df = monthly_rev_repeat_customers_df/monthly_revenue_df * 100.0"
   ],
   "outputs": [],
   "metadata": {}
  },
  {
   "cell_type": "code",
   "execution_count": 33,
   "source": [
    "monthly_rev_repeat_customers_df "
   ],
   "outputs": [
    {
     "output_type": "execute_result",
     "data": {
      "text/plain": [
       "InvoiceDate\n",
       "2010-12-31    382021.39\n",
       "2011-01-31    263878.59\n",
       "2011-02-28    223091.71\n",
       "2011-03-31    326507.60\n",
       "2011-04-30    218592.06\n",
       "2011-05-31    404843.47\n",
       "2011-06-30    374397.20\n",
       "2011-07-31    346158.02\n",
       "2011-08-31    347282.63\n",
       "2011-09-30    554521.59\n",
       "2011-10-31    580459.31\n",
       "2011-11-30    745508.69\n",
       "2011-12-31    167691.74\n",
       "Freq: M, Name: Sales, dtype: float64"
      ]
     },
     "metadata": {},
     "execution_count": 33
    }
   ],
   "metadata": {}
  },
  {
   "cell_type": "code",
   "execution_count": 34,
   "source": [
    "monthly_rev_perc_repeat_customers_df"
   ],
   "outputs": [
    {
     "output_type": "execute_result",
     "data": {
      "text/plain": [
       "InvoiceDate\n",
       "2010-12-31    51.007118\n",
       "2011-01-31    47.121155\n",
       "2011-02-28    44.791897\n",
       "2011-03-31    47.786233\n",
       "2011-04-30    44.320540\n",
       "2011-05-31    55.969130\n",
       "2011-06-30    54.172287\n",
       "2011-07-31    50.808449\n",
       "2011-08-31    50.870447\n",
       "2011-09-30    54.381516\n",
       "2011-10-31    54.212831\n",
       "2011-11-30    51.000890\n",
       "2011-12-31    38.668229\n",
       "Freq: M, Name: Sales, dtype: float64"
      ]
     },
     "metadata": {},
     "execution_count": 34
    }
   ],
   "metadata": {}
  },
  {
   "cell_type": "code",
   "execution_count": 54,
   "source": [
    "date_item_df = df.groupby([\r\n",
    "pd.Grouper(key='InvoiceDate',freq='M'), 'StockCode'\r\n",
    "])['Quantity'].sum()"
   ],
   "outputs": [],
   "metadata": {}
  },
  {
   "cell_type": "code",
   "execution_count": 55,
   "source": [
    "date_item_df.head()"
   ],
   "outputs": [
    {
     "output_type": "execute_result",
     "data": {
      "text/plain": [
       "InvoiceDate  StockCode\n",
       "2010-12-31   10002        251\n",
       "             10120         16\n",
       "             10125        154\n",
       "             10133        130\n",
       "             10135        411\n",
       "Name: Quantity, dtype: int64"
      ]
     },
     "metadata": {},
     "execution_count": 55
    }
   ],
   "metadata": {}
  },
  {
   "cell_type": "code",
   "execution_count": 57,
   "source": [
    "last_month_sorted_df = date_item_df.loc['2011-11-30']"
   ],
   "outputs": [],
   "metadata": {}
  },
  {
   "cell_type": "code",
   "execution_count": 58,
   "source": [
    "date_item_df.loc['2011-11-30']"
   ],
   "outputs": [
    {
     "output_type": "execute_result",
     "data": {
      "text/plain": [
       "InvoiceDate  StockCode\n",
       "2011-11-30   10080         113\n",
       "             10120          49\n",
       "             10125          62\n",
       "             10133         -82\n",
       "             10135         181\n",
       "                          ... \n",
       "             DCGSSGIRL       1\n",
       "             DOT            47\n",
       "             M            3659\n",
       "             POST         1231\n",
       "             S              -3\n",
       "Name: Quantity, Length: 2963, dtype: int64"
      ]
     },
     "metadata": {},
     "execution_count": 58
    }
   ],
   "metadata": {}
  },
  {
   "cell_type": "code",
   "execution_count": 82,
   "source": [
    "df.loc[df['StockCode'].isin([23084, 84826, 22197, 22086, '85099B'])].groupby(by = [pd.Grouper(key='InvoiceDate',freq='M'),'StockCode'])['Quantity'].sum()"
   ],
   "outputs": [
    {
     "output_type": "execute_result",
     "data": {
      "text/plain": [
       "InvoiceDate  StockCode\n",
       "2010-12-31   22086         2453\n",
       "             22197         2731\n",
       "             84826          306\n",
       "             85099B        2126\n",
       "2011-01-31   22086           24\n",
       "             22197         1809\n",
       "             84826          480\n",
       "             85099B        2639\n",
       "2011-02-28   22086            5\n",
       "             22197         2663\n",
       "             84826           66\n",
       "             85099B        3078\n",
       "2011-03-31   22086           87\n",
       "             22197         2798\n",
       "             84826           60\n",
       "             85099B        5281\n",
       "2011-04-30   22086          -27\n",
       "             22197         1856\n",
       "             84826            1\n",
       "             85099B        2452\n",
       "2011-05-31   22086           17\n",
       "             22197         6848\n",
       "             23084         1131\n",
       "             85099B        3617\n",
       "2011-06-30   22086          344\n",
       "             22197         2092\n",
       "             23084         1693\n",
       "             84826            4\n",
       "             85099B        3676\n",
       "2011-07-31   22086          377\n",
       "             22197         1862\n",
       "             23084          318\n",
       "             84826            2\n",
       "             85099B        3126\n",
       "2011-08-31   22086          370\n",
       "             22197         5416\n",
       "             23084         1783\n",
       "             84826           72\n",
       "             85099B        5401\n",
       "2011-09-30   22086         2106\n",
       "             22197         4153\n",
       "             23084          196\n",
       "             85099B        4267\n",
       "2011-10-31   22086         3189\n",
       "             22197         5865\n",
       "             23084         6344\n",
       "             84826           11\n",
       "             85099B        4803\n",
       "2011-11-30   22086         7868\n",
       "             22197        12159\n",
       "             23084        14883\n",
       "             84826        12551\n",
       "             85099B        5807\n",
       "2011-12-31   22086         2089\n",
       "             22197         6198\n",
       "             23084         4298\n",
       "             84826           92\n",
       "             85099B        1090\n",
       "Name: Quantity, dtype: int64"
      ]
     },
     "metadata": {},
     "execution_count": 82
    }
   ],
   "metadata": {}
  },
  {
   "cell_type": "code",
   "execution_count": 83,
   "source": [
    "trending_itmes_df = date_item_df.reset_index().pivot('InvoiceDate','StockCode').fillna(0)\r\n",
    "trending_itmes_df = trending_itmes_df.reset_index()\r\n",
    "trending_itmes_df = trending_itmes_df.set_index('InvoiceDate')\r\n",
    "trending_itmes_df.columns = trending_itmes_df.columns.droplevel(0)"
   ],
   "outputs": [],
   "metadata": {}
  },
  {
   "cell_type": "code",
   "execution_count": 1,
   "source": [
    "'''\r\n",
    "ax = pd.DataFrame(trending_itmes_df.values).plot(\r\n",
    "figsize=(10,7),\r\n",
    "grid=True,\r\n",
    ")\r\n",
    "ax.set_ylabel('number of purchases')\r\n",
    "ax.set_xlabel('date')\r\n",
    "ax.set_title('Item Trends over Time')\r\n",
    "#ax.legend(trending_itmes_df.columns, loc='upper left')\r\n",
    "plt.xticks(\r\n",
    "range(len(trending_itmes_df.index)),\r\n",
    "[x.strftime('%m.%Y') for x in trending_itmes_df.index],\r\n",
    "rotation=45\r\n",
    ")\r\n",
    "plt.show()\r\n",
    "'''"
   ],
   "outputs": [
    {
     "output_type": "execute_result",
     "data": {
      "text/plain": [
       "\"\\nax = pd.DataFrame(trending_itmes_df.values).plot(\\nfigsize=(10,7),\\ngrid=True,\\n)\\nax.set_ylabel('number of purchases')\\nax.set_xlabel('date')\\nax.set_title('Item Trends over Time')\\n#ax.legend(trending_itmes_df.columns, loc='upper left')\\nplt.xticks(\\nrange(len(trending_itmes_df.index)),\\n[x.strftime('%m.%Y') for x in trending_itmes_df.index],\\nrotation=45\\n)\\nplt.show()\\n\""
      ]
     },
     "metadata": {},
     "execution_count": 1
    }
   ],
   "metadata": {}
  },
  {
   "cell_type": "code",
   "execution_count": null,
   "source": [
    "cd /d/\"Segmentation Analysis\"/"
   ],
   "outputs": [],
   "metadata": {}
  }
 ],
 "metadata": {
  "orig_nbformat": 4,
  "language_info": {
   "name": "python",
   "version": "3.8.8",
   "mimetype": "text/x-python",
   "codemirror_mode": {
    "name": "ipython",
    "version": 3
   },
   "pygments_lexer": "ipython3",
   "nbconvert_exporter": "python",
   "file_extension": ".py"
  },
  "kernelspec": {
   "name": "python3",
   "display_name": "Python 3.8.8 64-bit ('base': conda)"
  },
  "interpreter": {
   "hash": "b3ba2566441a7c06988d0923437866b63cedc61552a5af99d1f4fb67d367b25f"
  }
 },
 "nbformat": 4,
 "nbformat_minor": 2
}